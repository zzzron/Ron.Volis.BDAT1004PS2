{
 "cells": [
  {
   "cell_type": "markdown",
   "metadata": {},
   "source": [
    "### Problem Set 2"
   ]
  },
  {
   "cell_type": "markdown",
   "metadata": {},
   "source": [
    "### Question 1\n",
    "Consider the following Python module:\n",
    "\n",
    "    a = 0\n",
    "    \n",
    "    def b():\n",
    "        global a\n",
    "        a = c(a)\n",
    "\n",
    "    def c(a):\n",
    "        return a + 2\n",
    "\n",
    "After importing the module into the interpreter, you execute:\n",
    "\n",
    "    >>> b()\n",
    "    >>> b()\n",
    "    >>> b()\n",
    "    >>> a\n",
    "    ?\n",
    "\n",
    "What value is displayed when the last expression (a) is evaluated? Explain your answer by indicating what happens in every executed statement."
   ]
  },
  {
   "cell_type": "code",
   "execution_count": 1,
   "metadata": {},
   "outputs": [],
   "source": [
    "a = 0\n",
    "\n",
    "def b():\n",
    "    global a\n",
    "    a = c(a)\n",
    "\n",
    "def c(a):\n",
    "    return a + 2\n",
    "\n",
    "    # a = 0\n",
    "b() # a += 2, a = 2\n",
    "b() # a += 2, a = 4\n",
    "b() # a += 2, a = 6\n",
    "a"
   ]
  },
  {
   "cell_type": "markdown",
   "metadata": {},
   "source": [
    "### Question 2\n",
    "Function fileLength(), given to you, takes the name of a file as input and returns the length of the file:\n",
    "\n",
    "    >>> fileLength('midterm.py')\n",
    "    284\n",
    "    >>> fileLength('idterm.py')\n",
    "    Traceback (most recent call last):\n",
    "      File \"<pyshell#34>\", line 1, in <module>\n",
    "        fileLength('idterm.py')\n",
    "      File \"/Users/me/midterm.py\", line 3, in fileLength\n",
    "        infile = open(filename)\n",
    "    FileNotFoundError: [Errno 2] No such file or directory: 'idterm.py'\n",
    "\n",
    "As shown above, if the file cannot be found by the interpreter or if it cannot be read as a text file, an exception will be raised. Modify function fileLength() so that a friendly message is printed instead:\n",
    "\n",
    "    >>> fileLength('midterm.py')\n",
    "    358\n",
    "    >>> fileLength('idterm.py')\n",
    "    File idterm.py not found."
   ]
  },
  {
   "cell_type": "code",
   "execution_count": 2,
   "metadata": {},
   "outputs": [],
   "source": [
    "def file_length(file_name):\n",
    "    try:\n",
    "        file = open(file_name)\n",
    "        contents = file.read()\n",
    "        file.close()\n",
    "        print(len(contents))\n",
    "    except FileNotFoundError:\n",
    "        print(f'File {file_name} not found.')\n",
    "        \n",
    "file_length('ps2.py')"
   ]
  },
  {
   "cell_type": "markdown",
   "metadata": {},
   "source": [
    "### Question 3\n",
    "Write a class named Marsupial that can be used as shown below:\n",
    "\n",
    "    >>> m = Marsupial()\n",
    "    >>> m.put_in_pouch('doll')\n",
    "    >>> m.put_in_pouch('firetruck')\n",
    "    >>> m.put_in_pouch('kitten')\n",
    "    >>> m.pouch_contents()\n",
    "    ['doll', 'firetruck', 'kitten']\n",
    "\n",
    "Now write a class named Kangaroo as a subclass of Marsupial that inherits all the attributes of Marsupial and also:\n",
    "\n",
    "a.\t_extends the Marsupial \\_\\_init\\_\\_ constructor to take, as input, the coordinates x and y of the Kangaroo object,\n",
    "\n",
    "b. _supports method jump that takes number values dx and dy as input and moves the kangaroo by dx units along the x-axis and by dy units along the y-axis, and\n",
    "\n",
    "c.\t_overloads the \\_\\_str__ operator so it behaves as shown below.\n",
    "\n",
    "    >>> k = Kangaroo(0,0)\n",
    "    >>> print(k)\n",
    "    I am a Kangaroo located at coordinates (0,0)\n",
    "    >>> k.put_in_pouch('doll')\n",
    "    >>> k.put_in_pouch('firetruck')\n",
    "    >>> k.put_in_pouch('kitten')\n",
    "    >>> k.pouch_contents()\n",
    "    ['doll', 'firetruck', 'kitten']\n",
    "    >>> k.jump(1,0)\n",
    "    >>> k.jump(1,0)\n",
    "    >>> k.jump(1,0)\n",
    "    >>> print(k)\n",
    "    I am a Kangaroo located at coordinates (3,0)\n"
   ]
  },
  {
   "cell_type": "code",
   "execution_count": 3,
   "metadata": {},
   "outputs": [],
   "source": [
    "class Marsupial:\n",
    "    \n",
    "    def __init__(self):\n",
    "        self.contents = []\n",
    "    \n",
    "    def put_in_pouch(self, item):\n",
    "        self.contents.append(item)\n",
    "        \n",
    "    def pouch_contents(self):\n",
    "        print(self.contents)\n",
    "        \n",
    "m = Marsupial()\n",
    "m.put_in_pouch('doll')\n",
    "m.put_in_pouch('firetruck')\n",
    "m.put_in_pouch('kitten')\n",
    "m.pouch_contents()"
   ]
  },
  {
   "cell_type": "code",
   "execution_count": 4,
   "metadata": {},
   "outputs": [],
   "source": [
    "class Kangaroo(Marsupial):\n",
    "    \n",
    "    def __init__(self, x, y):\n",
    "        self.contents = []\n",
    "        self.x = x\n",
    "        self.y = y\n",
    "        \n",
    "    def jump(self, dx, dy):\n",
    "        self.x += dx\n",
    "        self.y += dy\n",
    "        \n",
    "    def __str__(self):\n",
    "        return f'I am a Kangaroo located at coordinates ({self.x}, {self.y})'\n",
    "        \n",
    "k = Kangaroo(0,0)\n",
    "print(k)\n",
    "\n",
    "k.put_in_pouch('doll')\n",
    "k.put_in_pouch('firetruck')\n",
    "k.put_in_pouch('kitten')\n",
    "k.pouch_contents()\n",
    "\n",
    "k.jump(1,0)\n",
    "k.jump(1,0)\n",
    "k.jump(1,0)\n",
    "print(k)"
   ]
  },
  {
   "attachments": {
    "image.png": {
     "image/png": "[encoded data removed]"
    }
   },
   "cell_type": "markdown",
   "metadata": {},
   "source": [
    "### Question 4\n",
    "Implement a new GUI class App that combines user-defined tkinter widget classes Calculator and Mortgage displayed below: (This question can be done using a .py file)\n",
    "\n",
    "Your GUI should look like this:\n",
    "\n",
    "![image.png](attachment:image.png)"
   ]
  },
  {
   "cell_type": "code",
   "execution_count": 5,
   "metadata": {},
   "outputs": [],
   "source": [
    "import tkinter as tk\n",
    "\n",
    "class Calculator(tk.Frame):\n",
    "    \n",
    "    def __init__(self, parent=None):\n",
    "        tk.Frame.__init__(self, parent)\n",
    "        self.x, self.y = 75, 50\n",
    "\n",
    "    \n",
    "        root = tk.Frame(self)\n",
    "        root.pack(side=tk.RIGHT)\n",
    "\n",
    "        display = tk.Entry(root, relief = 'ridge', borderwidth=5, width=35, background='gray')\n",
    "        display.grid(row=0, columnspan=4)\n",
    "\n",
    "        # buttons grid\n",
    "        buttons = [['MC', 'M+', 'M-', 'MR'],\n",
    "                   ['C', '\\u221A', 'x\\u00B2', '+'],\n",
    "                   ['7', '8', '9', '-'],\n",
    "                   ['4', '5', '6', '*'],\n",
    "                   ['1', '2', '3', '/'],\n",
    "                   ['0', '.', '+-', '=']] \n",
    "        for i in range(6):\n",
    "            for j in range(4):\n",
    "                # create button\n",
    "                button = tk.Button(root, padx=10, text=buttons[i][j], width=2, height=1)\n",
    "                # put button in place\n",
    "                button.grid(row=i+1, column=j, padx=5, pady=5)\n",
    "\n",
    "        #root.mainloop()"
   ]
  },
  {
   "cell_type": "code",
   "execution_count": 6,
   "metadata": {},
   "outputs": [],
   "source": [
    "class Mortgage(tk.Frame):\n",
    "    \n",
    "    def __init__(self, parent=None):\n",
    "        tk.Frame.__init__(self, parent)\n",
    "        self.x, self.y = 75, 50\n",
    "\n",
    "    \n",
    "        root = tk.Frame(self)\n",
    "        root.pack(side=tk.LEFT)\n",
    "\n",
    "        labels = ['Loan amount:', 'Interest Rate:', 'Loan terms:']\n",
    "\n",
    "        for i in range(len(labels)):\n",
    "            label = tk.Label(root, padx=10, pady=2, text=labels[i])\n",
    "            label.grid(row=i, column=0)\n",
    "\n",
    "            entry = tk.Entry(root, width=25)\n",
    "            entry.grid(row=i, column=1)\n",
    "\n",
    "        button = tk.Button(root, text='Compute mortgage', height=1)\n",
    "        button.grid(row=3, column=0, pady=2, padx=10)\n",
    "\n",
    "        entry = tk.Entry(root, width=25)\n",
    "        entry.grid(row=3, column=1)\n",
    "\n",
    "        #root.mainloop()"
   ]
  },
  {
   "cell_type": "code",
   "execution_count": 7,
   "metadata": {},
   "outputs": [],
   "source": [
    "class App(tk.Frame):\n",
    "    \n",
    "    def __init__(self, master):\n",
    "        tk.Frame.__init__(self, master)\n",
    "        mort = Mortgage(self)\n",
    "        mort.pack(side=tk.LEFT)\n",
    "        calc = Calculator(self)\n",
    "        calc.pack(side=tk.RIGHT)"
   ]
  },
  {
   "cell_type": "code",
   "execution_count": 8,
   "metadata": {},
   "outputs": [],
   "source": [
    "root = tk.Tk()\n",
    "app = App(root)\n",
    "app.pack()\n",
    "root.mainloop()"
   ]
  },
  {
   "cell_type": "markdown",
   "metadata": {},
   "source": [
    "### Question 5\n",
    "Write function collatz() that takes a positive integer x as input and prints the Collatz sequence starting at x. A Collatz sequence is obtained by repeatedly applying this rule to the previous number x in the sequence:\n",
    "\n",
    " \n",
    "x = {█(  x/2                    if x is even@3x+1               if x is odd)┤\n",
    "\n",
    "\n",
    "Your function should stop when the sequence gets to number 1. Your implementation must be recursive, without any loops.\n",
    "\n",
    "    >>> collatz(1)\n",
    "    1\n",
    "    >>> collatz(10)\n",
    "    10\n",
    "    5\n",
    "    16\n",
    "    8\n",
    "    4\n",
    "    2\n",
    "    1"
   ]
  },
  {
   "cell_type": "code",
   "execution_count": 9,
   "metadata": {},
   "outputs": [
    {
     "name": "stdout",
     "output_type": "stream",
     "text": [
      "1\n"
     ]
    }
   ],
   "source": [
    "def collatz(x):\n",
    "    'collatz function'\n",
    "    \n",
    "    if x == 1:\n",
    "        print(int(x))\n",
    "    #if x is even\n",
    "    elif x % 2 == 0:\n",
    "        print(int(x))\n",
    "        collatz(x/2)\n",
    "    #if x is odd\n",
    "    else:\n",
    "        print(int(x))\n",
    "        collatz(3*x + 1)\n",
    "        \n",
    "collatz(1)"
   ]
  },
  {
   "cell_type": "code",
   "execution_count": 10,
   "metadata": {},
   "outputs": [
    {
     "name": "stdout",
     "output_type": "stream",
     "text": [
      "10\n",
      "5\n",
      "16\n",
      "8\n",
      "4\n",
      "2\n",
      "1\n"
     ]
    }
   ],
   "source": [
    "collatz(10)"
   ]
  },
  {
   "cell_type": "markdown",
   "metadata": {},
   "source": [
    "### Question 6\n",
    "Write a recursive method binary() that takes a non-negative integer n and prints the binary representation of integer n.\n",
    "\n",
    "    >>> binary(0)\n",
    "    0\n",
    "    >>> binary(1)\n",
    "    1\n",
    "    >>> binary(3)\n",
    "    11\n",
    "    >>> binary(9)\n",
    "    1001"
   ]
  },
  {
   "cell_type": "code",
   "execution_count": 11,
   "metadata": {},
   "outputs": [
    {
     "name": "stdout",
     "output_type": "stream",
     "text": [
      "0\n",
      "1\n",
      "11\n",
      "1001\n",
      "1100"
     ]
    }
   ],
   "source": [
    "def binary(n):\n",
    "    if n <= 1:\n",
    "        print(n, end = '')\n",
    "    else:\n",
    "        binary(n//2)\n",
    "        print(n%2, end = '')\n",
    "    \n",
    "binary(0)\n",
    "print()\n",
    "binary(1)\n",
    "print()\n",
    "binary(3)\n",
    "print()\n",
    "binary(9)\n",
    "print()\n",
    "binary(12)"
   ]
  },
  {
   "cell_type": "markdown",
   "metadata": {},
   "source": [
    "### Question 7\n",
    "Implement a class named HeadingParser that can be used to parse an HTML document, and retrieve and print all the headings in the document. You should implement your class as a subclass of HTMLParser, defined in Standard Library module html.parser. When fed a string containing HTML code, your class should print the headings, one per line and in the order in which they appear in the document. Each heading should be indented as follows: an h1 heading should have indentation 0, and h2 heading should have indentation 1, etc. Test your implementation using w3c.html.\n",
    "\n",
    "    >>> infile = open('w3c.html')\n",
    "    >>> content = infile.read()\n",
    "    >>> infile.close()\n",
    "    >>> hp = HeadingParser()\n",
    "    >>> hp.feed(content)\n",
    "    W3C Mission\n",
    "     Principles"
   ]
  },
  {
   "cell_type": "code",
   "execution_count": 12,
   "metadata": {},
   "outputs": [
    {
     "name": "stdout",
     "output_type": "stream",
     "text": [
      " W3C Mission \n",
      "  Principles  \n"
     ]
    }
   ],
   "source": [
    "from html.parser import HTMLParser\n",
    "class HeadingParser(HTMLParser):\n",
    "    \n",
    "    def __init__(self):\n",
    "        HTMLParser.__init__(self)\n",
    "        self.isHeading = False\n",
    "        self.indent = 0\n",
    "        self.hTags = ['h1', 'h2', 'h3', 'h4', 'h5', 'h6']\n",
    "    \n",
    "    # if find an h tag, set isHeading to True and indent according to index in hTags\n",
    "    def handle_starttag(self, tag, attrs):\n",
    "        if tag in self.hTags:\n",
    "            self.isHeading = True\n",
    "            self.indent = self.hTags.index(tag)\n",
    "        else:\n",
    "            self.isHeading = False\n",
    "    \n",
    "    # print data inside h tag\n",
    "    def handle_data(self, data):\n",
    "        if self.isHeading:\n",
    "            print(f'{self.indent*\" \"} {data}', end = '')\n",
    "            \n",
    "infile = open('w3c.html')\n",
    "content = infile.read()\n",
    "infile.close()\n",
    "hp = HeadingParser()\n",
    "hp.feed(content)"
   ]
  },
  {
   "cell_type": "markdown",
   "metadata": {},
   "source": [
    "### Question 8\n",
    "Implement recursive function webdir() that takes as input: a URL (as a string) and non-negative integers depth and indent. Your function should visit every web page reachable from the starting URL web page in depth clicks or less, and print each web page's URL. As shown below, indentation, specified by indent,  should be used to indicate the depth of a URL.\n",
    "\n",
    "    >>> webdir('http://reed.cs.depaul.edu/lperkovic/csc242/test1.html', 2, 0)\n",
    "    http://reed.cs.depaul.edu/lperkovic/csc242/test1.html\n",
    "        http://reed.cs.depaul.edu/lperkovic/csc242/test2.html\n",
    "            http://reed.cs.depaul.edu/lperkovic/csc242/test4.html\n",
    "        http://reed.cs.depaul.edu/lperkovic/csc242/test3.html\n",
    "            http://reed.cs.depaul.edu/lperkovic/csc242/test4.html\n"
   ]
  },
  {
   "cell_type": "code",
   "execution_count": 38,
   "metadata": {},
   "outputs": [
    {
     "name": "stdout",
     "output_type": "stream",
     "text": [
      "https://fpl.cs.depaul.edu/\n",
      "\thttps://www.cdm.depaul.edu\n",
      "\thttps://fpl.cs.depaul.edu/index.html\n",
      "\t\thttps://fpl.cs.depaul.edu/contact.html\n",
      "\t\thttps://fpl.cs.depaul.edu/rjagadeesan/\n",
      "\t\thttps://fpl.cs.depaul.edu/wmarrero/\n",
      "\t\thttps://fpl.cs.depaul.edu/cpitcher/\n",
      "\t\thttps://fpl.cs.depaul.edu/jriely/\n"
     ]
    }
   ],
   "source": [
    "from urllib.request import urlopen\n",
    "from urllib.parse import urljoin\n",
    "from html.parser import HTMLParser\n",
    "\n",
    "# code from collector, analyze, and crawl functions from class \n",
    "class Collector(HTMLParser):\n",
    "    'collects hyperlink URLs into a list'\n",
    "\n",
    "    def __init__(self, url):\n",
    "        'initializes parser, the url, and a list'\n",
    "        HTMLParser.__init__(self)\n",
    "        self.url = url\n",
    "        self.links = []\n",
    "\n",
    "    def handle_starttag(self, tag, attrs):\n",
    "            'collects hyperlink URLs in their absolute format'\n",
    "            if tag == 'a':\n",
    "                for attr in attrs:\n",
    "                    if attr[0] == 'href':\n",
    "                        # construct absolute URL\n",
    "                        absolute = urljoin(self.url, attr[1])\n",
    "                        if absolute[:4] == 'http': # collect HTTP URLs\n",
    "                            self.links.append(absolute)\n",
    "                        \n",
    "    def getLinks(self):\n",
    "        'returns hyperlinks URLs in their absolute format'\n",
    "        return self.links\n",
    "\n",
    "\n",
    "def analyze(url):\n",
    "    'prints web pages visited in depth clicks'\n",
    "    \n",
    "    # get links from web page\n",
    "    content = urlopen(url).read().decode()\n",
    "    collector = Collector(url)\n",
    "    collector.feed(content)\n",
    "    urls = collector.getLinks()\n",
    "    \n",
    "    return urls\n",
    "\n",
    "visited = []\n",
    "def webdir(url, depth, indent):\n",
    "    'visist web pages whithin depth clicks and prints their urls indented'\n",
    "    \n",
    "    global visited\n",
    "    visited.append(url)\n",
    "    \n",
    "    print(indent*'\\t' + url)\n",
    "    \n",
    "    if depth == 0:\n",
    "        return\n",
    "    else:\n",
    "        indent += 1\n",
    "        depth -= 1\n",
    "    \n",
    "    links = analyze(url)\n",
    "    # recursively crawl every link\n",
    "    for link in links:\n",
    "        if link not in visited:\n",
    "            try:\n",
    "                webdir(link, depth, indent)\n",
    "            except:\n",
    "                pass\n",
    "                \n",
    "webdir('https://fpl.cs.depaul.edu/', 2, 0)"
   ]
  },
  {
   "cell_type": "markdown",
   "metadata": {},
   "source": [
    "### Question 9\n",
    "Write SQL queries on the below database table that return: \n",
    "\n",
    "a)\tAll the temperature data.\n",
    "\n",
    "b)\tAll the cities, but without repetition.\n",
    "\n",
    "c)\tAll the records for India.\n",
    "\n",
    "d)\tAll the Fall records.\n",
    "\n",
    "e)\tThe city, country, and season for which the average rainfall is between 200 and 400 millimeters.\n",
    "\n",
    "f)\tThe city and country for which the average Fall temperature is above 20 degrees, in increasing \n",
    "temperature order.\n",
    "\n",
    "g)\tThe total annual rainfall for Cairo.\n",
    "\n",
    "h)\tThe total rainfall for each season."
   ]
  },
  {
   "cell_type": "markdown",
   "metadata": {},
   "source": [
    "Let the table be called weather, spaces in column names replaced with '_', brackets removed.\n",
    "\n",
    "    a) SELECT Temperature_C FROM weather;\n",
    "\n",
    "    b) SELECT DISTINCT City FROM weather;\n",
    "    \n",
    "    c) SELECT * FROM weather WHERE City = 'India';\n",
    "    \n",
    "    d) SELECT * FROM weather WHERE Season = 'Fall';\n",
    "    \n",
    "    e) SELECT City, Country, Season FROM weather WHERE Rainfall_mm BETWEEN 200 AND 400;\n",
    "    \n",
    "    f) SELECT City, Country FROM weather\n",
    "       WHERE Season = 'Fall'\n",
    "       AND Temperature_C > 20\n",
    "       ORDER BY Temperature_C ASC;\n",
    "       \n",
    "    g) SELECT SUM(Rainfall_mm) FROM weather WHERE City = 'Cairo'\n",
    "    \n",
    "    h) SELECT Season, SUM(Rainfall_mm) FROM weather GROUP BY Season"
   ]
  },
  {
   "cell_type": "markdown",
   "metadata": {},
   "source": [
    "### Question 10\n",
    "Suppose list words is defined as follows:\n",
    "\n",
    "    >>> words = ['The', 'quick', 'brown', 'fox', 'jumps', 'over', 'the', 'lazy', 'dog']\n",
    "    \n",
    "Write list comprehension expressions that use list words and generate the following lists:\n",
    "\n",
    "    a)\t['THE', 'QUICK', 'BROWN', 'FOX', 'JUMPS', 'OVER', 'THE', 'LAZY', 'DOG']\n",
    "    \n",
    "    b)\t['the', 'quick', 'brown', 'fox', 'jumps', 'over', 'the', 'lazy', 'dog']\n",
    "    \n",
    "    c)\t[3, 5, 5, 3, 5, 4, 3, 4, 3] (the list of lengths of words in list words).\n",
    "    \n",
    "    d)\t[['THE', 'the', 3], ['QUICK', 'quick', 5], ['BROWN', 'brown', 5], ['FOX', 'fox', 3], ['JUMPS', 'jumps', 5], ['OVER', 'over', 4], ['THE', 'the', 3], ['LAZY', 'lazy', 4], ['DOG', 'dog', 3]] (the list containing a list for every word of list words, where each list contains the word in uppercase and lowercase and the length of the word.)\n",
    "    \n",
    "    e)\t['The', 'quick', 'brown', 'fox', 'jumps', 'over', 'the', 'lazy', 'dog'] (the list of words in list words containing 4 or more characters.)\n"
   ]
  },
  {
   "cell_type": "code",
   "execution_count": 14,
   "metadata": {},
   "outputs": [
    {
     "name": "stdout",
     "output_type": "stream",
     "text": [
      "['THE', 'QUICK', 'BROWN', 'FOX', 'JUMPS', 'OVER', 'THE', 'LAZY', 'DOG']\n",
      "\n",
      "['the', 'quick', 'brown', 'fox', 'jumps', 'over', 'the', 'lazy', 'dog']\n",
      "\n",
      "[3, 5, 5, 3, 5, 4, 3, 4, 3]\n",
      "\n",
      "[['THE', 'the', 3], ['QUICK', 'quick', 5], ['BROWN', 'brown', 5], ['FOX', 'fox', 3], ['JUMPS', 'jumps', 5], ['OVER', 'over', 4], ['THE', 'the', 3], ['LAZY', 'lazy', 4], ['DOG', 'dog', 3]]\n",
      "\n",
      "['quick', 'brown', 'jumps', 'over', 'lazy']\n",
      "\n"
     ]
    }
   ],
   "source": [
    "words = ['The', 'quick', 'brown', 'fox', 'jumps', 'over', 'the', 'lazy', 'dog']\n",
    "\n",
    "wordsA = [word.upper() for word in words]\n",
    "print(f'{wordsA}\\n')\n",
    "\n",
    "wordsB = [word.lower() for word in words]\n",
    "print(f'{wordsB}\\n')\n",
    "\n",
    "wordsC = [len(word) for word in words]\n",
    "print(f'{wordsC}\\n')\n",
    "\n",
    "wordsD = [[word.upper(), word.lower(), len(word)] for word in words]\n",
    "print(f'{wordsD}\\n')\n",
    "\n",
    "wordsE = [word for word in words if len(word) >= 4]\n",
    "print(f'{wordsE}\\n')"
   ]
  },
  {
   "cell_type": "code",
   "execution_count": null,
   "metadata": {},
   "outputs": [],
   "source": []
  }
 ],
 "metadata": {
  "kernelspec": {
   "display_name": "Python 3",
   "language": "python",
   "name": "python3"
  },
  "language_info": {
   "codemirror_mode": {
    "name": "ipython",
    "version": 3
   },
   "file_extension": ".py",
   "mimetype": "text/x-python",
   "name": "python",
   "nbconvert_exporter": "python",
   "pygments_lexer": "ipython3",
   "version": "3.8.3"
  }
 },
 "nbformat": 4,
 "nbformat_minor": 4
}
